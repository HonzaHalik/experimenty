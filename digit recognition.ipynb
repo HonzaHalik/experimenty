{
 "cells": [
  {
   "cell_type": "code",
   "execution_count": 1,
   "metadata": {},
   "outputs": [],
   "source": [
    "import tensorflow as tf\n",
    "import numpy as np\n",
    "import matplotlib.pyplot as plt\n",
    "mnist = tf.keras.datasets.mnist\n",
    "(x_train, y_train), (x_test, y_test) = mnist.load_data()"
   ]
  },
  {
   "attachments": {},
   "cell_type": "markdown",
   "metadata": {},
   "source": [
    "data preprocesing"
   ]
  },
  {
   "cell_type": "code",
   "execution_count": 2,
   "metadata": {},
   "outputs": [],
   "source": [
    "\n",
    "#* normalizace(z rozsah(0,255) na rozsah(0,1))\n",
    "x_train, x_test = x_train / 255.0, x_test / 255.0\n",
    "#* one hot encoding\n",
    "y_train = tf.keras.utils.to_categorical(y_train, num_classes=10)\n",
    "y_test = tf.keras.utils.to_categorical(y_test, num_classes=10)"
   ]
  },
  {
   "attachments": {},
   "cell_type": "markdown",
   "metadata": {},
   "source": [
    "neuronova sit"
   ]
  },
  {
   "cell_type": "code",
   "execution_count": 3,
   "metadata": {},
   "outputs": [],
   "source": [
    "\n",
    "#* neural net s rozmery 28*28, 128, 64, 10 \n",
    "model = tf.keras.models.Sequential([\n",
    "    tf.keras.layers.Flatten(input_shape=(28, 28)),\n",
    "    tf.keras.layers.Dense(128, activation='relu'),\n",
    "    tf.keras.layers.Dense(64, activation='relu'),\n",
    "    tf.keras.layers.Dense(10, activation='softmax')\n",
    "])"
   ]
  },
  {
   "attachments": {},
   "cell_type": "markdown",
   "metadata": {},
   "source": [
    "trenink modelu"
   ]
  },
  {
   "cell_type": "code",
   "execution_count": 4,
   "metadata": {},
   "outputs": [
    {
     "name": "stdout",
     "output_type": "stream",
     "text": [
      "Epoch 1/10\n",
      "1688/1688 [==============================] - 11s 6ms/step - loss: 0.2570 - accuracy: 0.9257 - val_loss: 0.1100 - val_accuracy: 0.9683\n",
      "Epoch 2/10\n",
      "1688/1688 [==============================] - 10s 6ms/step - loss: 0.1087 - accuracy: 0.9672 - val_loss: 0.0978 - val_accuracy: 0.9728\n",
      "Epoch 3/10\n",
      "1688/1688 [==============================] - 10s 6ms/step - loss: 0.0742 - accuracy: 0.9769 - val_loss: 0.0936 - val_accuracy: 0.9720\n",
      "Epoch 4/10\n",
      "1688/1688 [==============================] - 15s 9ms/step - loss: 0.0570 - accuracy: 0.9822 - val_loss: 0.0763 - val_accuracy: 0.9780\n",
      "Epoch 5/10\n",
      "1688/1688 [==============================] - 14s 8ms/step - loss: 0.0445 - accuracy: 0.9852 - val_loss: 0.0816 - val_accuracy: 0.9790\n",
      "Epoch 6/10\n",
      "1688/1688 [==============================] - 22s 13ms/step - loss: 0.0357 - accuracy: 0.9883 - val_loss: 0.0960 - val_accuracy: 0.9747\n",
      "Epoch 7/10\n",
      "1688/1688 [==============================] - 21s 13ms/step - loss: 0.0303 - accuracy: 0.9901 - val_loss: 0.0957 - val_accuracy: 0.9795\n",
      "Epoch 8/10\n",
      "1688/1688 [==============================] - 21s 13ms/step - loss: 0.0250 - accuracy: 0.9917 - val_loss: 0.0831 - val_accuracy: 0.9820\n",
      "Epoch 9/10\n",
      "1688/1688 [==============================] - 21s 12ms/step - loss: 0.0221 - accuracy: 0.9924 - val_loss: 0.0937 - val_accuracy: 0.9802\n",
      "Epoch 10/10\n",
      "1688/1688 [==============================] - 21s 12ms/step - loss: 0.0209 - accuracy: 0.9930 - val_loss: 0.1058 - val_accuracy: 0.9790\n",
      "trenovano na 60 000 prikladech * 10 epoch = 600 000 prikladu\n",
      "CPU times: total: 1min 31s\n",
      "Wall time: 2min 46s\n"
     ]
    }
   ],
   "source": [
    "%%time\n",
    "model.compile(optimizer='adam',\n",
    "                loss='categorical_crossentropy',\n",
    "                metrics=['accuracy'])\n",
    "\n",
    "history = model.fit(x_train, y_train, epochs=10, validation_split=0.1)\n",
    "print(\"trenovano na 60 000 prikladech * 10 epoch = 600 000 prikladu\")"
   ]
  },
  {
   "attachments": {},
   "cell_type": "markdown",
   "metadata": {},
   "source": [
    "evaluace modelu"
   ]
  },
  {
   "cell_type": "code",
   "execution_count": 5,
   "metadata": {},
   "outputs": [
    {
     "name": "stdout",
     "output_type": "stream",
     "text": [
      "313/313 [==============================] - 2s 7ms/step - loss: 0.0889 - accuracy: 0.9789\n",
      "Test accuracy: 0.9789000153541565\n"
     ]
    }
   ],
   "source": [
    "test_loss, test_acc = model.evaluate(x_test, y_test)\n",
    "print('Test accuracy:', test_acc)"
   ]
  },
  {
   "attachments": {},
   "cell_type": "markdown",
   "metadata": {},
   "source": [
    "predikce na celim test setu"
   ]
  },
  {
   "cell_type": "code",
   "execution_count": 6,
   "metadata": {},
   "outputs": [
    {
     "name": "stdout",
     "output_type": "stream",
     "text": [
      "313/313 [==============================] - 2s 6ms/step\n"
     ]
    }
   ],
   "source": [
    "predictions = model.predict(x_test)"
   ]
  },
  {
   "attachments": {},
   "cell_type": "markdown",
   "metadata": {},
   "source": [
    "predikce na nahodnym obrazku z test setu"
   ]
  },
  {
   "cell_type": "code",
   "execution_count": 7,
   "metadata": {},
   "outputs": [
    {
     "data": {
      "image/png": "[encoded data removed]",
      "text/plain": [
       "<Figure size 640x480 with 1 Axes>"
      ]
     },
     "metadata": {},
     "output_type": "display_data"
    }
   ],
   "source": [
    "\n",
    "#* ukazat nahodny obrazek z test setu a jeho brealnou a predpovedenou hodnotu\n",
    "index = np.random.randint(0, len(x_test))\n",
    "plt.imshow(x_test[index], cmap='gray')\n",
    "plt.title(f\"True label: {np.argmax(y_test[index])} \\nPredicted label: {np.argmax(predictions[index])}\")\n",
    "plt.axis('off')\n",
    "plt.show()"
   ]
  },
  {
   "attachments": {},
   "cell_type": "markdown",
   "metadata": {},
   "source": [
    "ukazovat jenom spatne priklady"
   ]
  },
  {
   "cell_type": "code",
   "execution_count": 8,
   "metadata": {},
   "outputs": [
    {
     "data": {
      "image/png": "[encoded data removed]",
      "text/plain": [
       "<Figure size 640x480 with 1 Axes>"
      ]
     },
     "metadata": {},
     "output_type": "display_data"
    }
   ],
   "source": [
    "\n",
    "#*pokud se relita nerovna predikci tak to ukazat a skoncit ten for cyklus\n",
    "for prediction in predictions:\n",
    "    index = np.random.randint(0, len(x_test))\n",
    "    if np.argmax(y_test[index]) != np.argmax(predictions[index]):\n",
    "        # Plot a random test image and its predicted label\n",
    "        plt.imshow(x_test[index], cmap='gray')\n",
    "        plt.title(f\"True label: {np.argmax(y_test[index])} \\nPredicted label: {np.argmax(predictions[index])}\")\n",
    "        plt.axis('off')\n",
    "        plt.show()\n",
    "        break"
   ]
  }
 ],
 "metadata": {
  "kernelspec": {
   "display_name": "Python 3",
   "language": "python",
   "name": "python3"
  },
  "language_info": {
   "codemirror_mode": {
    "name": "ipython",
    "version": 3
   },
   "file_extension": ".py",
   "mimetype": "text/x-python",
   "name": "python",
   "nbconvert_exporter": "python",
   "pygments_lexer": "ipython3",
   "version": "3.10.11"
  },
  "orig_nbformat": 4
 },
 "nbformat": 4,
 "nbformat_minor": 2
}
